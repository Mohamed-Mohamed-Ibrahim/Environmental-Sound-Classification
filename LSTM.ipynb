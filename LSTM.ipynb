{
 "cells": [
  {
   "cell_type": "code",
   "execution_count": null,
   "id": "3d93760a",
   "metadata": {},
   "outputs": [],
   "source": [
    "import numpy as np\n",
    "import matplotlib.pyplot as plt\n",
    "from tensorflow import keras\n",
    "from tensorflow.keras.models import Sequential\n",
    "from tensorflow.keras.layers import LSTM, Dense, Dropout\n",
    "from tensorflow.keras.callbacks import EarlyStopping, ModelCheckpoint, ReduceLROnPlateau\n",
    "from sklearn.metrics import accuracy_score, f1_score, classification_report, confusion_matrix,ConfusionMatrixDisplay"
   ]
  },
  {
   "cell_type": "code",
   "execution_count": null,
   "id": "d8ef4d0d",
   "metadata": {},
   "outputs": [],
   "source": [
    "# Evaluation helper\n",
    "def evaluate_model(model, X_test, y_test):\n",
    "    y_pred = np.argmax(model.predict(X_test), axis=1)\n",
    "    acc = accuracy_score(y_test, y_pred)\n",
    "    f1 = f1_score(y_test, y_pred, average='macro')\n",
    "    print(\"Accuracy:\", acc)\n",
    "    print(\"F1 Score (macro):\", f1)\n",
    "    print(\"\\nClassification Report:\\n\", classification_report(y_test, y_pred))\n",
    "    return acc, f1"
   ]
  },
  {
   "cell_type": "code",
   "execution_count": null,
   "id": "03602a11",
   "metadata": {},
   "outputs": [],
   "source": [
    "def plot_conf_matrix(model, X_test, y_test):\n",
    "    y_pred = np.argmax(model.predict(X_test), axis=1)\n",
    "    cm = confusion_matrix(y_test, y_pred)\n",
    "    disp = ConfusionMatrixDisplay(confusion_matrix=cm, display_labels=label_names)  # replace label_names if needed\n",
    "    disp.plot(cmap=\"Blues\", xticks_rotation=45)\n",
    "    plt.title(\"Confusion Matrix\")\n",
    "    plt.show()\n"
   ]
  },
  {
   "cell_type": "code",
   "execution_count": null,
   "id": "66304623",
   "metadata": {},
   "outputs": [],
   "source": [
    "# ==== Default Hyperparameters ====\n",
    "INPUT_SHAPE = (X_train.shape[1], X_train.shape[2])\n",
    "NUM_CLASSES = 10\n",
    "LSTM_UNITS = 64\n",
    "DENSE_UNITS = 128\n",
    "DROPOUT_RATE = 0.5\n",
    "EPOCHS = 20\n",
    "BATCH_SIZE = 32\n",
    "LEARNING_RATE = 0.001\n",
    "LOSS_FUNCTION = \"sparse_categorical_crossentropy\"\n",
    "OPTIMIZER = \"adam\""
   ]
  },
  {
   "cell_type": "code",
   "execution_count": null,
   "id": "339cd23d",
   "metadata": {},
   "outputs": [],
   "source": [
    "def build_and_train_LSTM_model(model_name,input_shape=INPUT_SHAPE,lstm_units=LSTM_UNITS,dense_units=DENSE_UNITS,num_classes=NUM_CLASSES,epochs=EPOCHS ,dropout_rate=DROPOUT_RATE, learning_rate=LEARNING_RATE, batch_size=BATCH_SIZE,loss_function=LOSS_FUNCTION, optimizer=OPTIMIZER):\n",
    "    # Define the model\n",
    "    model = Sequential()\n",
    "    model.add(LSTM(lstm_units, return_sequences=True, input_shape=input_shape))\n",
    "    model.add(LSTM(lstm_units, return_sequences=False))\n",
    "    model.add(Dense(dense_units, activation='relu'))\n",
    "    model.add(Dropout(dropout_rate))\n",
    "    model.add(Dense(num_classes, activation='softmax'))\n",
    "\n",
    "    # ==== Model Summary ====\n",
    "    model.summary()\n",
    "\n",
    "    # Compile the model\n",
    "    model.compile(optimizer=keras.optimizers.Adam(learning_rate=learning_rate),\n",
    "                  loss=loss_function,\n",
    "                  metrics=['accuracy'])\n",
    "\n",
    "    # Callbacks\n",
    "    early_stopping = EarlyStopping(monitor='val_loss', patience=3, restore_best_weights=True)\n",
    "    checkpoint = ModelCheckpoint(f'{model_name}.h5', monitor='val_loss', save_best_only=True)\n",
    "    lr_scheduler = ReduceLROnPlateau(monitor='val_loss', factor=0.1, patience=2)\n",
    "\n",
    "    # Train the model\n",
    "    history = model.fit(X_train, y_train,\n",
    "                        epochs=epochs,\n",
    "                        batch_size=batch_size,\n",
    "                        validation_data=(X_val, y_val),\n",
    "                        callbacks=[early_stopping, checkpoint, lr_scheduler])\n",
    "    \n",
    "\n",
    "    # ==== Save Final Model ====\n",
    "    #model.save(f'{model_name}.h5')\n",
    "    \n",
    "    # ==== Plot Loss Curve ====\n",
    "    plt.plot(history.history['loss'], label='Train Loss')    \n",
    "    plt.plot(history.history['val_loss'], label='Val Loss')\n",
    "    plt.title('Loss Curve for {}'.format(model_name))\n",
    "    plt.xlabel('Epochs')\n",
    "    plt.ylabel('Loss')\n",
    "    plt.legend()\n",
    "    plt.show()\n",
    "\n",
    "    evaluate_model(model, X_test, y_test)\n",
    "    acc, f1 = evaluate_model(model, X_test, y_test)\n",
    "    return model, history, acc, f1\n",
    "\n",
    "\n",
    "    "
   ]
  },
  {
   "cell_type": "code",
   "execution_count": null,
   "id": "f2ae8a95",
   "metadata": {},
   "outputs": [],
   "source": [
    "default = build_and_train_LSTM_model(model_name=\"default\")\n"
   ]
  },
  {
   "cell_type": "code",
   "execution_count": null,
   "id": "62917567",
   "metadata": {},
   "outputs": [],
   "source": [
    "lstm_32 =build_and_train_LSTM_model(model_name=\"lstm_32\", lstm_units=32)\n"
   ]
  },
  {
   "cell_type": "code",
   "execution_count": null,
   "id": "7aec5fce",
   "metadata": {},
   "outputs": [],
   "source": [
    "lstm_128 = build_and_train_LSTM_model(model_name=\"lstm_128\", lstm_units=128)\n"
   ]
  },
  {
   "cell_type": "code",
   "execution_count": null,
   "id": "fc8513e9",
   "metadata": {},
   "outputs": [],
   "source": [
    "dropout_03 =build_and_train_LSTM_model(model_name=\"dropout_0.3\", dropout_rate=0.3)\n"
   ]
  },
  {
   "cell_type": "code",
   "execution_count": null,
   "id": "01fe029b",
   "metadata": {},
   "outputs": [],
   "source": [
    "dropout_07 = build_and_train_LSTM_model(model_name=\"dropout_0.7\", dropout_rate=0.7)\n"
   ]
  },
  {
   "cell_type": "code",
   "execution_count": null,
   "id": "c5d1bee4",
   "metadata": {},
   "outputs": [],
   "source": [
    "lr_0005 =build_and_train_LSTM_model(model_name=\"lr_0005\", learning_rate=0.0005)\n"
   ]
  },
  {
   "cell_type": "code",
   "execution_count": null,
   "id": "36ca3ea2",
   "metadata": {},
   "outputs": [],
   "source": [
    "lr_005 = build_and_train_LSTM_model(model_name=\"lr_005\", learning_rate=0.005)\n"
   ]
  },
  {
   "cell_type": "code",
   "execution_count": null,
   "id": "56fdbeea",
   "metadata": {},
   "outputs": [],
   "source": [
    "batch_64 = build_and_train_LSTM_model(model_name=\"batch_64\", batch_size=64)\n"
   ]
  },
  {
   "cell_type": "code",
   "execution_count": null,
   "id": "79b7b52e",
   "metadata": {},
   "outputs": [],
   "source": [
    "class_names = ['air conditioner', 'car horn', 'children playing', 'dog bark', 'drilling',\n",
    "               'engine idling', 'gun shot', 'jackhammer', 'siren', 'street music']\n",
    "\n",
    "plot_conf_matrix(best_model, X_test, y_test, class_names)\n"
   ]
  }
 ],
 "metadata": {
  "kernelspec": {
   "display_name": "Python 3",
   "language": "python",
   "name": "python3"
  },
  "language_info": {
   "name": "python",
   "version": "3.11.4"
  }
 },
 "nbformat": 4,
 "nbformat_minor": 5
}
