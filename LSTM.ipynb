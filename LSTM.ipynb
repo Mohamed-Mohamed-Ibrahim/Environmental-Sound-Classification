{
 "cells": [
  {
   "cell_type": "code",
   "execution_count": null,
   "id": "3d93760a",
   "metadata": {},
   "outputs": [],
   "source": [
    "import numpy as np\n",
    "import matplotlib.pyplot as plt\n",
    "from tensorflow import keras\n",
    "from tensorflow.keras.models import Sequential\n",
    "from tensorflow.keras.layers import LSTM, Dense, Dropout\n",
    "from tensorflow.keras.callbacks import EarlyStopping, ModelCheckpoint, ReduceLROnPlateau\n",
    "from sklearn.metrics import accuracy_score, f1_score, classification_report, confusion_matrix,ConfusionMatrixDisplay"
   ]
  },
  {
   "cell_type": "code",
   "execution_count": null,
   "id": "1b74a3e6",
   "metadata": {},
   "outputs": [],
   "source": [
    "#these are not exacly the same as the dataset \n",
    "class_names = ['air conditioner', 'car horn', 'children playing', 'dog bark', 'drilling',\n",
    "               'engine idling', 'gun shot', 'jackhammer', 'siren', 'street music']"
   ]
  },
  {
   "cell_type": "code",
   "execution_count": null,
   "id": "d8ef4d0d",
   "metadata": {},
   "outputs": [],
   "source": [
    "def evaluate_model(model, X_val, y_val):\n",
    "    y_pred = np.argmax(model.predict(X_val), axis=1)\n",
    "    acc = accuracy_score(y_val, y_pred)\n",
    "    f1 = f1_score(y_val, y_pred, average='macro')\n",
    "    print(\"Accuracy:\", acc)\n",
    "    print(\"F1 Score (macro):\", f1)\n",
    "    print(\"\\nClassification Report:\\n\", classification_report(y_val, y_pred))\n",
    "    return acc, f1"
   ]
  },
  {
   "cell_type": "code",
   "execution_count": null,
   "id": "03602a11",
   "metadata": {},
   "outputs": [],
   "source": [
    "def plot_conf_matrix(model, X_test, y_test):\n",
    "    y_pred = np.argmax(model.predict(X_test), axis=1)\n",
    "    cm = confusion_matrix(y_test, y_pred)\n",
    "    disp = ConfusionMatrixDisplay(confusion_matrix=cm, display_labels=class_names) \n",
    "    disp.plot(cmap=\"Blues\", xticks_rotation=45)\n",
    "    plt.title(\"Confusion Matrix\")\n",
    "    plt.show()\n"
   ]
  },
  {
   "cell_type": "code",
   "execution_count": null,
   "id": "66304623",
   "metadata": {},
   "outputs": [],
   "source": [
    "# ==== Default Hyperparameters ====\n",
    "INPUT_SHAPE = (X_train.shape[1], X_train.shape[2])\n",
    "NUM_CLASSES = 10\n",
    "LSTM_UNITS = 64\n",
    "DENSE_UNITS = 128\n",
    "DROPOUT_RATE = 0.5\n",
    "EPOCHS = 20\n",
    "BATCH_SIZE = 32\n",
    "LEARNING_RATE = 0.001\n",
    "LOSS_FUNCTION = \"sparse_categorical_crossentropy\"\n",
    "OPTIMIZER = \"adam\""
   ]
  },
  {
   "cell_type": "code",
   "execution_count": null,
   "id": "339cd23d",
   "metadata": {},
   "outputs": [],
   "source": [
    "def build_and_train_LSTM_model(model_name,input_shape=INPUT_SHAPE,lstm_units=LSTM_UNITS,dense_units=DENSE_UNITS,num_classes=NUM_CLASSES,epochs=EPOCHS ,dropout_rate=DROPOUT_RATE, learning_rate=LEARNING_RATE, batch_size=BATCH_SIZE,loss_function=LOSS_FUNCTION, optimizer=OPTIMIZER):\n",
    "    \n",
    "    model = Sequential()\n",
    "    model.add(LSTM(lstm_units, return_sequences=True, input_shape=input_shape))\n",
    "    model.add(LSTM(lstm_units, return_sequences=False))\n",
    "    model.add(Dense(dense_units, activation='relu'))\n",
    "    model.add(Dropout(dropout_rate))\n",
    "    model.add(Dense(num_classes, activation='softmax'))\n",
    "\n",
    "    \n",
    "    model.summary()\n",
    "\n",
    "    \n",
    "    model.compile(optimizer=keras.optimizers.Adam(learning_rate=learning_rate),\n",
    "                  loss=loss_function,\n",
    "                  metrics=['accuracy'])\n",
    "\n",
    "    \n",
    "    early_stopping = EarlyStopping(monitor='val_loss', patience=3, restore_best_weights=True)\n",
    "    checkpoint = ModelCheckpoint(f'{model_name}.h5', monitor='val_loss', save_best_only=True)\n",
    "    lr_scheduler = ReduceLROnPlateau(monitor='val_loss', factor=0.1, patience=2)\n",
    "\n",
    "    \n",
    "    history = model.fit(X_train, y_train,\n",
    "                        epochs=epochs,\n",
    "                        batch_size=batch_size,\n",
    "                        validation_data=(X_val, y_val),\n",
    "                        callbacks=[early_stopping, checkpoint, lr_scheduler])\n",
    "    \n",
    "\n",
    "    # Save Final Model\n",
    "    #model.save(f'{model_name}.h5')\n",
    "    \n",
    "    \n",
    "    plt.plot(history.history['loss'], label='Train Loss')    \n",
    "    plt.plot(history.history['val_loss'], label='Val Loss')\n",
    "    plt.title('Loss Curve for {}'.format(model_name))\n",
    "    plt.xlabel('Epochs')\n",
    "    plt.ylabel('Loss')\n",
    "    plt.legend()\n",
    "    plt.show()\n",
    "\n",
    "    \n",
    "    acc, f1 = evaluate_model(model, X_val, y_val)\n",
    "    return model, history, acc, f1\n",
    "\n",
    "\n",
    "    "
   ]
  },
  {
   "cell_type": "code",
   "execution_count": null,
   "id": "f2ae8a95",
   "metadata": {},
   "outputs": [],
   "source": [
    "default = build_and_train_LSTM_model(model_name=\"default\")\n"
   ]
  },
  {
   "cell_type": "code",
   "execution_count": null,
   "id": "62917567",
   "metadata": {},
   "outputs": [],
   "source": [
    "lstm_32 =build_and_train_LSTM_model(model_name=\"lstm_32\", lstm_units=32)\n"
   ]
  },
  {
   "cell_type": "code",
   "execution_count": null,
   "id": "7aec5fce",
   "metadata": {},
   "outputs": [],
   "source": [
    "lstm_128 = build_and_train_LSTM_model(model_name=\"lstm_128\", lstm_units=128)\n"
   ]
  },
  {
   "cell_type": "code",
   "execution_count": null,
   "id": "fc8513e9",
   "metadata": {},
   "outputs": [],
   "source": [
    "dropout_03 =build_and_train_LSTM_model(model_name=\"dropout_0.3\", dropout_rate=0.3)\n"
   ]
  },
  {
   "cell_type": "code",
   "execution_count": null,
   "id": "01fe029b",
   "metadata": {},
   "outputs": [],
   "source": [
    "dropout_07 = build_and_train_LSTM_model(model_name=\"dropout_0.7\", dropout_rate=0.7)\n"
   ]
  },
  {
   "cell_type": "code",
   "execution_count": null,
   "id": "c5d1bee4",
   "metadata": {},
   "outputs": [],
   "source": [
    "lr_0005 =build_and_train_LSTM_model(model_name=\"lr_0005\", learning_rate=0.0005)\n"
   ]
  },
  {
   "cell_type": "code",
   "execution_count": null,
   "id": "36ca3ea2",
   "metadata": {},
   "outputs": [],
   "source": [
    "lr_005 = build_and_train_LSTM_model(model_name=\"lr_005\", learning_rate=0.005)\n"
   ]
  },
  {
   "cell_type": "code",
   "execution_count": null,
   "id": "56fdbeea",
   "metadata": {},
   "outputs": [],
   "source": [
    "batch_64 = build_and_train_LSTM_model(model_name=\"batch_64\", batch_size=64)\n"
   ]
  },
  {
   "cell_type": "code",
   "execution_count": null,
   "id": "759ddea9",
   "metadata": {},
   "outputs": [],
   "source": [
    "evaluate_model(best_model, X_test, y_test)"
   ]
  },
  {
   "cell_type": "code",
   "execution_count": null,
   "id": "79b7b52e",
   "metadata": {},
   "outputs": [],
   "source": [
    "plot_conf_matrix(best_model, X_test, y_test, class_names)\n"
   ]
  }
 ],
 "metadata": {
  "kernelspec": {
   "display_name": "Python 3",
   "language": "python",
   "name": "python3"
  },
  "language_info": {
   "codemirror_mode": {
    "name": "ipython",
    "version": 3
   },
   "file_extension": ".py",
   "mimetype": "text/x-python",
   "name": "python",
   "nbconvert_exporter": "python",
   "pygments_lexer": "ipython3",
   "version": "3.11.4"
  }
 },
 "nbformat": 4,
 "nbformat_minor": 5
}
